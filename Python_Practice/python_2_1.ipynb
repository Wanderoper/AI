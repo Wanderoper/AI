{
 "cells": [
  {
   "cell_type": "code",
   "execution_count": null,
   "id": "1733e3f7-0613-4736-887f-5cfe7ab01e04",
   "metadata": {},
   "outputs": [],
   "source": []
  },
  {
   "cell_type": "code",
   "execution_count": 48,
   "id": "cbdbcb00-775f-4456-ada7-5e833670cbae",
   "metadata": {},
   "outputs": [],
   "source": [
    "# python에는 다양한 데이터 타입이 하나의 list에 들어간다 "
   ]
  },
  {
   "cell_type": "code",
   "execution_count": 50,
   "id": "ac0672e6-38d8-4b4a-9593-8d022952af8e",
   "metadata": {},
   "outputs": [],
   "source": [
    "a = [5,4,3,2,1]\n",
    "b = [1,2,3,4,5]\n",
    "# 하지만 a = b 를 해주게 되면 b 의 리스트 연결이 끊어지고 a 의 메모리값을 가지게 되므로 \n",
    "# b 로 수행한 모든 작업이 a가 가리키는 메모리의 객체에 영향이 간다 "
   ]
  },
  {
   "cell_type": "code",
   "execution_count": 54,
   "id": "10e11881-70fa-4640-aeeb-5478b832f505",
   "metadata": {},
   "outputs": [],
   "source": [
    "a = b"
   ]
  },
  {
   "cell_type": "code",
   "execution_count": 55,
   "id": "7f729b43-fae7-4ec0-802c-eee6da44ac0c",
   "metadata": {},
   "outputs": [],
   "source": [
    "b.sort() # 1,2,3,4,5 "
   ]
  },
  {
   "cell_type": "code",
   "execution_count": 57,
   "id": "dccef281-9a49-4e1c-aad6-22bc22581cb2",
   "metadata": {},
   "outputs": [
    {
     "name": "stdout",
     "output_type": "stream",
     "text": [
      "[1, 2, 3, 4, 5]\n"
     ]
    }
   ],
   "source": [
    "print(a)"
   ]
  },
  {
   "cell_type": "code",
   "execution_count": 60,
   "id": "9411f68c-4b4e-445b-ad38-4cc45713a83e",
   "metadata": {},
   "outputs": [],
   "source": [
    "# copy 방법 ( a -> b ) \n",
    "\n",
    "b = a[ : ] "
   ]
  },
  {
   "cell_type": "code",
   "execution_count": 61,
   "id": "b7a11641-fecf-48fb-b7f2-463bff1febdc",
   "metadata": {},
   "outputs": [
    {
     "name": "stdout",
     "output_type": "stream",
     "text": [
      "[1, 2, 3, 4, 5]\n"
     ]
    }
   ],
   "source": [
    "print(b) "
   ]
  },
  {
   "cell_type": "code",
   "execution_count": 91,
   "id": "964216a3-d3a4-4435-9bff-3a4cedc8182f",
   "metadata": {},
   "outputs": [
    {
     "name": "stdout",
     "output_type": "stream",
     "text": [
      "original :  [[10, 20, 30, 40, 50], [20, 30, 50, 60, 70], [30, 40, 50, 60, 70]] \n",
      " copied   :  [[10, 20, 30, 40, 50], [20, 30, 50, 60, 70], [30, 40, 50, 60, 70]] \n",
      "\n",
      "Making a change to original applies to simple [:] copied obj \n",
      "\n",
      "[10, 50, 30, 40, 50]\n",
      "Making a change to original applies to deep copy : \n",
      "not same\n"
     ]
    }
   ],
   "source": [
    "# 2차원 copy 방법 -> 1차원 [:] 과 달리 deep copy 해줘야 한다 \n",
    "\n",
    "# [:] copy 하면 -> 메모리 참조가 일어난다 (즉, 원본도 같이 바뀐다) \n",
    "\n",
    "# 2차원 [:] 예제\n",
    "kor_score = [10,20,30,40,50]\n",
    "math_score = [20,30,50,60,70]\n",
    "eng_score = [30,40,50,60,70]\n",
    "midterm_score = [kor_score, math_score, eng_score ] # midterm 은 각 배열이 들어간 2차원 구조 \n",
    " \n",
    "midterm_copy = midterm_score[:] \n",
    "\n",
    "print(\"original : \", midterm_score, \"\\n\", \n",
    "      \"copied   : \", midterm_copy, \"\\n\")\n",
    "\n",
    "print(\"Making a change to original applies to simple [:] copied obj\", \"\\n\")\n",
    "\n",
    "midterm_score[0][1] = 50 # 변경 하면 [:] 으로 변경한것도 반영됨 \n",
    "\n",
    "print(midterm_copy[0])\n",
    "\n",
    "# 따라서 deep copy 를 해야한다 (2차원 이상) \n",
    "\n",
    "import copy \n",
    "\n",
    "midterm_deep_copy = copy.deepcopy(midterm_score)\n",
    "\n",
    "midterm_score[0][0] = 100 \n",
    "\n",
    "check_validity = (midterm_score[0][0] == midterm_deep_copy[0][0])\n",
    "\n",
    "print(\"Making a change to original applies to deep copy : \")\n",
    "\n",
    "if (check_validity == True): (\n",
    "    print('same')\n",
    ")\n",
    "else: (\n",
    "    print('not same')\n",
    ")\n"
   ]
  },
  {
   "cell_type": "code",
   "execution_count": null,
   "id": "bea6affb-cf44-4cb2-83a4-2013b332a1d2",
   "metadata": {},
   "outputs": [],
   "source": []
  }
 ],
 "metadata": {
  "kernelspec": {
   "display_name": "Python 3 (ipykernel)",
   "language": "python",
   "name": "python3"
  },
  "language_info": {
   "codemirror_mode": {
    "name": "ipython",
    "version": 3
   },
   "file_extension": ".py",
   "mimetype": "text/x-python",
   "name": "python",
   "nbconvert_exporter": "python",
   "pygments_lexer": "ipython3",
   "version": "3.11.5"
  }
 },
 "nbformat": 4,
 "nbformat_minor": 5
}
