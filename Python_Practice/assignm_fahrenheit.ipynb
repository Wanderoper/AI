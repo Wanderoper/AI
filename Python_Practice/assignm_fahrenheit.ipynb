{
 "cells": [
  {
   "cell_type": "code",
   "execution_count": 7,
   "id": "c3dd003f-5090-4a8a-9cad-74dd8e98dc37",
   "metadata": {},
   "outputs": [
    {
     "ename": "SyntaxError",
     "evalue": "invalid syntax (438282711.py, line 11)",
     "output_type": "error",
     "traceback": [
      "\u001b[0;36m  Cell \u001b[0;32mIn[7], line 11\u001b[0;36m\u001b[0m\n\u001b[0;31m    print(f\"화씨온도 : \", fahrenheit:.1)\u001b[0m\n\u001b[0m                                ^\u001b[0m\n\u001b[0;31mSyntaxError\u001b[0m\u001b[0;31m:\u001b[0m invalid syntax\n"
     ]
    }
   ],
   "source": [
    "# python fahrenheit.py\n",
    "\n",
    "print(\"본 프로그램은 섭씨를 화씨로 변환해주는 프로그램입니다\", '\\n',\n",
    "      \"변환하고 싶은 섭씨 온도를 입력해 주세요:\")\n",
    "\n",
    "temp = float(input())\n",
    "fahrenheit = ((9/5)*temp) + 32\n",
    "\n",
    "print()\n",
    "print(\"섭씨온도 : \", temp)\n",
    "print(\"화씨온도 : \", fahrenheit:.1)"
   ]
  }
 ],
 "metadata": {
  "kernelspec": {
   "display_name": "Python 3 (ipykernel)",
   "language": "python",
   "name": "python3"
  },
  "language_info": {
   "codemirror_mode": {
    "name": "ipython",
    "version": 3
   },
   "file_extension": ".py",
   "mimetype": "text/x-python",
   "name": "python",
   "nbconvert_exporter": "python",
   "pygments_lexer": "ipython3",
   "version": "3.11.5"
  }
 },
 "nbformat": 4,
 "nbformat_minor": 5
}
